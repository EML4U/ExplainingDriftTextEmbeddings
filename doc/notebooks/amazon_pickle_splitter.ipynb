{
 "cells": [
  {
   "cell_type": "markdown",
   "metadata": {},
   "source": [
    "# Amazon Pickle Splitter\n",
    "\n",
    "A reader which gets the same number of IDs for every year-star combination.  \n",
    "The IDs can be used to access items (e.g. texts or embeddings) afterwards.  \n",
    "The available number of items is listed at the bottom of this notebook."
   ]
  },
  {
   "cell_type": "code",
   "execution_count": 4,
   "metadata": {},
   "outputs": [
    {
     "name": "stdout",
     "output_type": "stream",
     "text": [
      "The autoreload extension is already loaded. To reload it, use:\n",
      "  %reload_ext autoreload\n"
     ]
    }
   ],
   "source": [
    "# Reload modules every time before executing the Python code typed\n",
    "%load_ext autoreload\n",
    "%autoreload 2\n",
    "\n",
    "# Import from code root directory\n",
    "import sys; sys.path.insert(0, '../..')\n",
    "\n",
    "from access.amazon_pickle_splitter import AmazonPickleSplitter"
   ]
  },
  {
   "cell_type": "code",
   "execution_count": 5,
   "metadata": {},
   "outputs": [],
   "source": [
    "directory_pickle = '/home/eml4u/EML4U/data/amazon-complete/'"
   ]
  },
  {
   "cell_type": "code",
   "execution_count": 6,
   "metadata": {},
   "outputs": [],
   "source": [
    "data = AmazonPickleSplitter(directory_pickle)"
   ]
  },
  {
   "cell_type": "markdown",
   "metadata": {},
   "source": [
    "## Example: Get 10 items for the years 2000 and 2010 and for 1-stars and 5-stars"
   ]
  },
  {
   "cell_type": "code",
   "execution_count": 7,
   "metadata": {},
   "outputs": [
    {
     "data": {
      "text/plain": [
       "{2000: {0: [84120,\n",
       "   84130,\n",
       "   84164,\n",
       "   84171,\n",
       "   84172,\n",
       "   84176,\n",
       "   84222,\n",
       "   84242,\n",
       "   84269,\n",
       "   84289],\n",
       "  4: [84091, 84093, 84094, 84095, 84096, 84097, 84099, 84100, 84101, 84103]},\n",
       " 2010: {0: [5522874,\n",
       "   5522878,\n",
       "   5522881,\n",
       "   5522887,\n",
       "   5522897,\n",
       "   5522912,\n",
       "   5522914,\n",
       "   5522926,\n",
       "   5522942,\n",
       "   5522946],\n",
       "  4: [5522875,\n",
       "   5522877,\n",
       "   5522879,\n",
       "   5522883,\n",
       "   5522884,\n",
       "   5522886,\n",
       "   5522888,\n",
       "   5522889,\n",
       "   5522890,\n",
       "   5522891]}}"
      ]
     },
     "execution_count": 7,
     "metadata": {},
     "output_type": "execute_result"
    }
   ],
   "source": [
    "data.get_data_splits(years=[2000,2010], stars=[0,4], max_items=10)"
   ]
  },
  {
   "cell_type": "markdown",
   "metadata": {},
   "source": [
    "The returned ids can be used to access the data:"
   ]
  },
  {
   "cell_type": "code",
   "execution_count": 8,
   "metadata": {},
   "outputs": [
    {
     "name": "stdout",
     "output_type": "stream",
     "text": [
      "AN OVERLOOKED JAMES STEWART GEM!! Based on a true story, this docudrama-like film is the story of how police corruption in 1930's Chicago resulted in the wrongful conviction of Frank Wiecek for killing a policeman. A newspaper reporter for the Chicago Times (Stewart) responds to a two line personal ad offering a $5000 reward (a large sum then) for information helping to overturn the verdict 11 years later. He finds a hard working, floor scrubbing woman who is the mother of Wiecek. Since his conviction she has worked and saved every penny to free her son. Stewart is initially unconvinced but writes a sympathy article to promote her cause. Little by little, things come to light that indicate there may be some truth to her beliefs. Once convinced, he is relentless in his pursuit of freeing this man he now believes to be innocent. He reaches dead end after dead end but, finally, with time running out, he finds what he's looking for. Will it be enough and will it be in time? In addition to a very interesting story (and great acting by Stewart, etc) much of the film is shot on location in and around Chicago. Definitely an overlooked gem of Jimmy Stewart's great career. If you like law & order and courtroom dramas you will enjoy this.\n",
      "\n",
      "['1/1', 4, datetime.datetime(2010, 1, 1, 1, 0), 16448, 5522891]\n"
     ]
    }
   ],
   "source": [
    "print(data.get_text(5522891))\n",
    "print()\n",
    "print(data.get_text(5522891, metadata=True))"
   ]
  },
  {
   "cell_type": "markdown",
   "metadata": {},
   "source": [
    "## Example: Get 2 items for every year and every star"
   ]
  },
  {
   "cell_type": "code",
   "execution_count": 9,
   "metadata": {},
   "outputs": [
    {
     "data": {
      "text/plain": [
       "{1997: {0: [14, 60], 1: [81], 2: [66, 67], 3: [15, 16], 4: [0, 1]},\n",
       " 1998: {0: [303, 462],\n",
       "  1: [142, 143],\n",
       "  2: [147, 293],\n",
       "  3: [175, 176],\n",
       "  4: [108, 109]},\n",
       " 1999: {0: [5462, 5727],\n",
       "  1: [5113, 5119],\n",
       "  2: [5143, 5148],\n",
       "  3: [5116, 5117],\n",
       "  4: [5114, 5115]},\n",
       " 2000: {0: [84120, 84130],\n",
       "  1: [84098, 84107],\n",
       "  2: [84105, 84113],\n",
       "  3: [84090, 84092],\n",
       "  4: [84091, 84093]},\n",
       " 2001: {0: [418094, 418117],\n",
       "  1: [418096, 418099],\n",
       "  2: [418075, 418077],\n",
       "  3: [418065, 418066],\n",
       "  4: [418067, 418069]},\n",
       " 2002: {0: [766793, 766796],\n",
       "  1: [766803, 766817],\n",
       "  2: [766794, 766815],\n",
       "  3: [766791, 766792],\n",
       "  4: [766797, 766799]},\n",
       " 2003: {0: [1135534, 1135541],\n",
       "  1: [1135551, 1135556],\n",
       "  2: [1135537, 1135542],\n",
       "  3: [1135529, 1135532],\n",
       "  4: [1135530, 1135531]},\n",
       " 2004: {0: [1525233, 1525262],\n",
       "  1: [1525286, 1525288],\n",
       "  2: [1525225, 1525230],\n",
       "  3: [1525213, 1525214],\n",
       "  4: [1525212, 1525218]},\n",
       " 2005: {0: [2036604, 2036609],\n",
       "  1: [2036625, 2036650],\n",
       "  2: [2036599, 2036600],\n",
       "  3: [2036597, 2036602],\n",
       "  4: [2036598, 2036601]},\n",
       " 2006: {0: [2649363, 2649364],\n",
       "  1: [2649333, 2649356],\n",
       "  2: [2649301, 2649308],\n",
       "  3: [2649315, 2649318],\n",
       "  4: [2649302, 2649303]},\n",
       " 2007: {0: [3249313, 3249361],\n",
       "  1: [3249310, 3249311],\n",
       "  2: [3249307, 3249308],\n",
       "  3: [3249309, 3249316],\n",
       "  4: [3249303, 3249304]},\n",
       " 2008: {0: [4033915, 4033920],\n",
       "  1: [4033918, 4033946],\n",
       "  2: [4033916, 4033936],\n",
       "  3: [4033910, 4033913],\n",
       "  4: [4033909, 4033911]},\n",
       " 2009: {0: [4778748, 4778766],\n",
       "  1: [4778749, 4778751],\n",
       "  2: [4778753, 4778754],\n",
       "  3: [4778745, 4778746],\n",
       "  4: [4778743, 4778744]},\n",
       " 2010: {0: [5522874, 5522878],\n",
       "  1: [5522880, 5522901],\n",
       "  2: [5522876, 5522882],\n",
       "  3: [5522895, 5522899],\n",
       "  4: [5522875, 5522877]},\n",
       " 2011: {0: [6268188, 6268215],\n",
       "  1: [6268177, 6268198],\n",
       "  2: [6268178, 6268193],\n",
       "  3: [6268187, 6268196],\n",
       "  4: [6268174, 6268175]},\n",
       " 2012: {0: [7073382, 7073383],\n",
       "  1: [7073331, 7073354],\n",
       "  2: [7073330, 7073332],\n",
       "  3: [7073334, 7073335],\n",
       "  4: [7073328, 7073329]}}"
      ]
     },
     "execution_count": 9,
     "metadata": {},
     "output_type": "execute_result"
    }
   ],
   "source": [
    "data.get_data_splits(max_items=2)"
   ]
  },
  {
   "cell_type": "markdown",
   "metadata": {},
   "source": [
    "# Print overview of items"
   ]
  },
  {
   "cell_type": "code",
   "execution_count": 10,
   "metadata": {},
   "outputs": [
    {
     "name": "stdout",
     "output_type": "stream",
     "text": [
      "1997\t1998\t1999\t2000\t2001\t2002\t2003\t2004\t2005\t2006\t2007\t2008\t2009\t2010\t2011\t2012\t\n",
      "6\t191\t4844\t19944\t24221\t25311\t25734\t41016\t54744\t49049\t49521\t56076\t59099\t65343\t72957\t81276\t0\n",
      "1\t262\t3631\t17808\t20320\t22641\t24183\t33117\t40868\t37992\t40205\t40138\t39680\t41430\t45767\t47356\t1\n",
      "8\t442\t6458\t30907\t35395\t37798\t43323\t60489\t71012\t66128\t75239\t74057\t73178\t70279\t72055\t74826\t2\n",
      "29\t797\t14178\t73314\t79152\t84276\t90527\t119160\t138000\t135581\t167632\t161693\t149771\t142000\t148457\t150248\t3\n",
      "64\t3313\t49866\t192002\t189638\t198712\t205916\t257603\t308080\t311252\t452009\t412870\t422403\t426248\t465918\t484650\t4\n"
     ]
    }
   ],
   "source": [
    "data.print_overview()"
   ]
  },
  {
   "cell_type": "code",
   "execution_count": 9,
   "metadata": {},
   "outputs": [],
   "source": [
    "# 1997\t1998\t1999\t2000\t2001\t2002\t2003\t2004\t2005\t2006\t2007\t2008\t2009\t2010\t2011\t2012\tStar-Index\n",
    "# 6\t\t191\t\t4844\t19944\t24221\t25311\t25734\t41016\t54744\t49049\t49521\t56076\t59099\t65343\t72957\t81276\t0\n",
    "# 1\t\t262\t\t3631\t17808\t20320\t22641\t24183\t33117\t40868\t37992\t40205\t40138\t39680\t41430\t45767\t47356\t1\n",
    "# 8\t\t442\t\t6458\t30907\t35395\t37798\t43323\t60489\t71012\t66128\t75239\t74057\t73178\t70279\t72055\t74826\t2\n",
    "# 29\t797\t\t14178\t73314\t79152\t84276\t90527\t119160\t138000\t135581\t167632\t161693\t149771\t142000\t148457\t150248\t3\n",
    "# 64\t3313\t49866\t192002\t189638\t198712\t205916\t257603\t308080\t311252\t452009\t412870\t422403\t426248\t465918\t484650\t4"
   ]
  },
  {
   "cell_type": "code",
   "execution_count": null,
   "metadata": {},
   "outputs": [],
   "source": []
  }
 ],
 "metadata": {
  "kernelspec": {
   "display_name": "Python (EML4U)",
   "language": "python",
   "name": "eml4u"
  },
  "language_info": {
   "codemirror_mode": {
    "name": "ipython",
    "version": 3
   },
   "file_extension": ".py",
   "mimetype": "text/x-python",
   "name": "python",
   "nbconvert_exporter": "python",
   "pygments_lexer": "ipython3",
   "version": "3.8.5"
  }
 },
 "nbformat": 4,
 "nbformat_minor": 4
}
