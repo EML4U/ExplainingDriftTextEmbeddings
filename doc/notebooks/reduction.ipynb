{
 "cells": [
  {
   "cell_type": "markdown",
   "metadata": {},
   "source": [
    "# Dimension reduction examples\n",
    "\n",
    "## Imports"
   ]
  },
  {
   "cell_type": "code",
   "execution_count": 2,
   "metadata": {},
   "outputs": [
    {
     "name": "stdout",
     "output_type": "stream",
     "text": [
      "The autoreload extension is already loaded. To reload it, use:\n",
      "  %reload_ext autoreload\n"
     ]
    }
   ],
   "source": [
    "# Reload modules every time before executing the Python code typed\n",
    "%load_ext autoreload\n",
    "%autoreload 2\n",
    "\n",
    "# Import from code root directory\n",
    "import sys; sys.path.insert(0, '../..')\n",
    "\n",
    "from transformation.reduction import Reduction"
   ]
  },
  {
   "cell_type": "markdown",
   "metadata": {},
   "source": [
    "## Data"
   ]
  },
  {
   "cell_type": "code",
   "execution_count": 3,
   "metadata": {},
   "outputs": [],
   "source": [
    "# This code was only used one time to set the data below\n",
    "if(False):\n",
    "    directory_pickle = '/home/eml4u/EML4U/data/amazon-complete/'\n",
    "    from data.amazon_pickle_reader import AmazonPickleReader\n",
    "    reader = AmazonPickleReader(directory_pickle)\n",
    "    print(repr(reader.get_bow50(84090 + 0)))\n",
    "    print(repr(reader.get_bow50(84090 + 1)))\n",
    "    print(repr(reader.get_bow50(84090 + 2)))\n",
    "    print(repr(reader.get_bow50(7911683 - 0)))\n",
    "    print(repr(reader.get_bow50(7911683 - 1)))\n",
    "    print(repr(reader.get_bow50(7911683 - 2)))"
   ]
  },
  {
   "cell_type": "code",
   "execution_count": 4,
   "metadata": {},
   "outputs": [],
   "source": [
    "a = []\n",
    "a.append([-0.24985783,  0.16864878,  0.02703895, -0.11902861, -0.12623635,\n",
    "        0.5468567 , -0.62643474, -0.37106168,  0.20238242,  0.50450987,\n",
    "       -0.8426819 , -0.6930715 ,  0.4340131 , -0.9636074 ,  0.13368598,\n",
    "        0.31075126,  0.01930012,  0.4803627 , -0.76769334,  0.38046253,\n",
    "        0.6414892 ,  0.17776397,  0.1469548 ,  0.32331824, -0.19743916,\n",
    "       -1.2577695 ,  0.57499427, -0.83908457, -0.00245378,  0.36757097,\n",
    "       -0.24726792, -0.37581244, -0.04817808,  1.1553404 , -0.6344334 ,\n",
    "        0.10060462, -0.24586104, -0.21703015, -0.69574773,  0.4195975 ,\n",
    "       -0.01105951,  0.633555  , -0.22565898,  0.5379074 ,  1.2141867 ,\n",
    "        0.51241136, -0.24533187,  0.3430782 , -1.1273987 ,  0.7270555 ])\n",
    "a.append([ 0.01041978, -0.08345759, -0.16056415,  0.30941793, -0.01645641,\n",
    "        0.9835588 ,  0.11834181,  0.03288192,  0.47972465,  0.29440594,\n",
    "        0.52736276,  0.8177846 ,  0.48849708, -0.01747535,  0.03087167,\n",
    "        0.11803657, -0.42595908,  0.26817888,  0.07897857,  0.18476453,\n",
    "       -0.09990567,  0.7078542 , -0.15679368,  0.6257744 , -0.6477642 ,\n",
    "        0.31124192,  0.1083637 , -0.19503945, -0.39254674,  0.06745682,\n",
    "       -0.47516453, -0.29341844, -0.16722694,  0.8249883 , -0.14676978,\n",
    "        0.30228135, -1.1642836 , -0.11529221, -0.6826615 , -0.06118876,\n",
    "        0.25381976, -0.529846  , -0.66529375,  0.27600518, -0.28484362,\n",
    "        0.38990614, -1.1384783 ,  0.3505001 , -0.20326224, -0.17067052])\n",
    "a.append([ 0.60988057, -0.69166833,  0.2770689 , -0.5820394 ,  0.17128389,\n",
    "        0.9201626 ,  0.21376012,  0.12662168,  0.5999239 ,  0.10458601,\n",
    "       -0.12716025,  0.34763288, -0.32105488, -0.22696336,  0.14506958,\n",
    "        0.3542954 ,  0.11807325,  0.06857602, -0.12351613,  0.24948522,\n",
    "       -0.34968528,  0.8446565 ,  0.15267849,  0.03146462,  0.10169528,\n",
    "       -0.5923886 ,  0.86437845, -0.7397433 ,  0.17446361,  0.5124921 ,\n",
    "       -0.28437817, -0.37970513,  0.13580574, -0.09081367, -0.02626294,\n",
    "       -0.3172517 , -0.10357255, -0.21596433, -1.1811538 ,  0.3794284 ,\n",
    "        0.36348113, -0.48595017,  0.45560244,  0.13953428, -0.05180407,\n",
    "       -0.39994413, -0.29837498,  0.38985503, -0.30007982,  0.33217248])\n",
    "b = []\n",
    "b.append([-0.0483431 , -0.698007  ,  0.29450932,  0.3002716 ,  0.35189843,\n",
    "        0.8555523 , -0.2526258 , -0.46693632,  0.15686907, -0.7506389 ,\n",
    "       -0.696759  ,  0.02701912, -0.44270435, -0.10652559, -0.15805222,\n",
    "       -0.0703449 ,  0.9881437 , -0.0345827 , -0.12152129,  1.191765  ,\n",
    "        0.21429925,  0.154204  , -0.530556  , -0.24742413, -0.08287712,\n",
    "       -0.05820851,  0.1828911 , -0.58407664,  0.42833957,  0.2296328 ,\n",
    "       -1.06996   , -0.92435354, -0.19442444, -0.19936141,  0.3116476 ,\n",
    "       -0.5621612 , -0.23148634, -0.2930328 ,  0.19158548,  0.8862216 ,\n",
    "        0.56826806, -0.47875455,  0.20420861, -0.3748677 ,  0.18262288,\n",
    "        0.61506623, -0.67961186,  0.31054968, -0.13324328,  0.49061725])\n",
    "b.append([-0.11287599, -0.86450917,  0.35663715, -0.14706422,  1.0123326 ,\n",
    "        0.23042053, -0.52754307, -0.13431351, -0.30765474,  0.16374254,\n",
    "        0.02706413,  0.11722203,  0.00199061, -0.12875146,  0.02374382,\n",
    "        0.30114028,  0.39984417, -0.05216679,  0.11440177,  0.06412008,\n",
    "        0.981594  , -0.028229  ,  0.3611141 ,  0.04345018, -0.4007784 ,\n",
    "        0.5305874 ,  0.10966855, -0.5349974 , -0.10286664,  0.79597086,\n",
    "       -0.58416444, -0.35363397, -0.41503003,  0.51309085, -0.842944  ,\n",
    "       -0.5317869 , -0.53918105,  0.41322806,  0.03512176,  0.33706474,\n",
    "        0.05961665, -0.28922594,  0.08082779,  0.18446285,  0.03859602,\n",
    "        0.11784934, -0.53423566, -0.05499091, -0.48587564,  0.11626142])\n",
    "b.append([-2.79518161e-02,  4.69120085e-01, -3.89626026e-01, -3.54789138e-01,\n",
    "        4.55998629e-01,  2.43874684e-01, -6.71178639e-01, -3.14707398e-01,\n",
    "        3.47510666e-01,  2.28473410e-01,  2.30184291e-02, -6.15981631e-02,\n",
    "       -4.63695556e-04,  3.01169097e-01,  2.75165230e-01,  2.90952139e-02,\n",
    "        4.39384170e-02,  1.05611420e+00, -1.82625055e-01, -1.82416007e-01,\n",
    "        7.20091641e-01, -4.52938944e-01,  5.30205071e-01,  1.73713431e-01,\n",
    "       -1.63705349e-01, -6.78391755e-01, -4.14166749e-01, -8.29136133e-01,\n",
    "       -1.80340782e-01,  4.45881695e-01,  1.10009439e-01, -5.59013665e-01,\n",
    "       -4.54018041e-02,  1.31090268e-01, -5.57028472e-01, -2.71083891e-01,\n",
    "       -4.91026402e-01,  1.13177456e-01, -1.46807805e-01,  3.83050680e-01,\n",
    "        7.63554752e-01, -4.65988010e-01, -9.91494879e-02, -5.84423542e-01,\n",
    "       -3.36960047e-01, -2.91889518e-01, -2.53463298e-01, -2.23383084e-01,\n",
    "        4.53271329e-01, -2.22282171e-01])"
   ]
  },
  {
   "cell_type": "markdown",
   "metadata": {},
   "source": [
    "# Dimension reduction"
   ]
  },
  {
   "cell_type": "code",
   "execution_count": 5,
   "metadata": {},
   "outputs": [],
   "source": [
    "reduction = Reduction()"
   ]
  },
  {
   "cell_type": "markdown",
   "metadata": {},
   "source": [
    "## PCA\n",
    "\n",
    "Parameters: [https://scikit-learn.org/stable/modules/generated/sklearn.decomposition.PCA.html](https://scikit-learn.org/stable/modules/generated/sklearn.decomposition.PCA.html)"
   ]
  },
  {
   "cell_type": "code",
   "execution_count": 6,
   "metadata": {},
   "outputs": [
    {
     "data": {
      "text/plain": [
       "array([[ 2.91579904,  0.47890795],\n",
       "       [-0.65104812, -1.69145715],\n",
       "       [-0.35767428,  0.48252639]])"
      ]
     },
     "execution_count": 6,
     "metadata": {},
     "output_type": "execute_result"
    }
   ],
   "source": [
    "# Minimal example\n",
    "reduction.pca_fit(a+b)\n",
    "reduction.pca_transform(a)"
   ]
  },
  {
   "cell_type": "code",
   "execution_count": 7,
   "metadata": {},
   "outputs": [
    {
     "name": "stdout",
     "output_type": "stream",
     "text": [
      "PCA fit seconds: 0.0007879491895437241\n",
      "PCA seconds: 0.00020093703642487526\n"
     ]
    },
    {
     "data": {
      "text/plain": [
       "array([[ 2.91579904,  0.47890795, -0.1467885 ],\n",
       "       [-0.65104812, -1.69145715, -1.61857353],\n",
       "       [-0.35767428,  0.48252639, -1.17859929],\n",
       "       [-1.22665063,  2.16115417,  0.18931278],\n",
       "       [-0.4754941 , -0.1207284 ,  0.92615341],\n",
       "       [-0.20493192, -1.31040295,  1.82849513]])"
      ]
     },
     "execution_count": 7,
     "metadata": {},
     "output_type": "execute_result"
    }
   ],
   "source": [
    "# Reduce all data to 3 dimensions and print execution time\n",
    "reduction.pca_fit(a+b, parameters={'n_components':3}, print_time=True)\n",
    "reduction.pca_transform(a+b, print_time=True)"
   ]
  },
  {
   "cell_type": "markdown",
   "metadata": {},
   "source": [
    "## TNSE\n",
    "\n",
    "Parameters: [https://scikit-learn.org/stable/modules/generated/sklearn.manifold.TSNE.html](https://scikit-learn.org/stable/modules/generated/sklearn.manifold.TSNE.html)"
   ]
  },
  {
   "cell_type": "code",
   "execution_count": 8,
   "metadata": {},
   "outputs": [
    {
     "data": {
      "text/plain": [
       "array([[ -325.26895, -1194.508  ],\n",
       "       [-1055.6787 ,  -709.71136],\n",
       "       [ -270.63278,  -319.5548 ]], dtype=float32)"
      ]
     },
     "execution_count": 8,
     "metadata": {},
     "output_type": "execute_result"
    }
   ],
   "source": [
    "# Minimal example\n",
    "reduction.tsne_fit(a+b)\n",
    "reduction.tsne_transform(a)"
   ]
  },
  {
   "cell_type": "code",
   "execution_count": 9,
   "metadata": {},
   "outputs": [
    {
     "name": "stdout",
     "output_type": "stream",
     "text": [
      "t-SNE fit seconds: 18.286232854006812\n",
      "t-SNE transform seconds: 18.990922609111294\n"
     ]
    },
    {
     "data": {
      "text/plain": [
       "array([[-326.3191   , -526.7273   , -294.34372  ],\n",
       "       [ -63.86867  ,  312.12708  ,  194.94354  ],\n",
       "       [ 115.51371  ,  -40.146976 ,  396.3279   ],\n",
       "       [ 286.84824  ,   -4.5095835,   -3.5160396],\n",
       "       [-164.60829  , -110.33635  ,  -38.428284 ],\n",
       "       [  12.424626 ,  265.23883  , -242.98106  ]], dtype=float32)"
      ]
     },
     "execution_count": 9,
     "metadata": {},
     "output_type": "execute_result"
    }
   ],
   "source": [
    "# Reduce all data to 3 dimensions and print execution time\n",
    "reduction.tsne_fit(a+b, parameters={'n_components':3}, print_time=True)\n",
    "reduction.tsne_transform(a+b, print_time=True)"
   ]
  },
  {
   "cell_type": "markdown",
   "metadata": {},
   "source": [
    "## UMAP\n",
    "\n",
    "Paramerters: [https://umap-learn.readthedocs.io/en/latest/api.html](https://umap-learn.readthedocs.io/en/latest/api.html)"
   ]
  },
  {
   "cell_type": "code",
   "execution_count": 10,
   "metadata": {},
   "outputs": [
    {
     "name": "stderr",
     "output_type": "stream",
     "text": [
      "/home/eml4u/.local/lib/python3.8/site-packages/umap/umap_.py:2213: UserWarning: n_neighbors is larger than the dataset size; truncating to X.shape[0] - 1\n",
      "  warn(\n"
     ]
    },
    {
     "data": {
      "text/plain": [
       "array([[14.24289   , -3.8258603 ],\n",
       "       [15.323876  ,  0.20904826],\n",
       "       [12.281173  , -1.3226566 ]], dtype=float32)"
      ]
     },
     "execution_count": 10,
     "metadata": {},
     "output_type": "execute_result"
    }
   ],
   "source": [
    "# Minimal example\n",
    "reduction.umap_fit(a+b)\n",
    "reduction.umap_transform(a)"
   ]
  },
  {
   "cell_type": "code",
   "execution_count": 11,
   "metadata": {},
   "outputs": [
    {
     "name": "stderr",
     "output_type": "stream",
     "text": [
      "/home/eml4u/.local/lib/python3.8/site-packages/umap/umap_.py:2213: UserWarning: n_neighbors is larger than the dataset size; truncating to X.shape[0] - 1\n",
      "  warn(\n"
     ]
    },
    {
     "name": "stdout",
     "output_type": "stream",
     "text": [
      "UMAP fit seconds: 3.907032886054367\n",
      "UMAP seconds: 0.00033818697556853294\n"
     ]
    },
    {
     "data": {
      "text/plain": [
       "array([[12.392765 , -2.8481312,  6.50947  ],\n",
       "       [11.136502 , -2.466368 ,  7.050833 ],\n",
       "       [11.434635 , -2.9105065,  6.109944 ],\n",
       "       [11.307027 , -3.6744816,  6.722681 ],\n",
       "       [12.184413 , -2.5742812,  7.422808 ],\n",
       "       [11.676739 , -3.1739473,  7.7487392]], dtype=float32)"
      ]
     },
     "execution_count": 11,
     "metadata": {},
     "output_type": "execute_result"
    }
   ],
   "source": [
    "# Reduce all data to 3 dimensions and print execution time\n",
    "reduction.umap_fit(a+b, parameters={'n_components':3}, print_time=True)\n",
    "reduction.umap_transform(a+b, print_time=True)"
   ]
  },
  {
   "cell_type": "code",
   "execution_count": null,
   "metadata": {},
   "outputs": [],
   "source": []
  }
 ],
 "metadata": {
  "kernelspec": {
   "display_name": "Python (EML4U)",
   "language": "python",
   "name": "eml4u"
  },
  "language_info": {
   "codemirror_mode": {
    "name": "ipython",
    "version": 3
   },
   "file_extension": ".py",
   "mimetype": "text/x-python",
   "name": "python",
   "nbconvert_exporter": "python",
   "pygments_lexer": "ipython3",
   "version": "3.8.5"
  }
 },
 "nbformat": 4,
 "nbformat_minor": 4
}
