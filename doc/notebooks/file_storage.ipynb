{
 "cells": [
  {
   "cell_type": "markdown",
   "metadata": {},
   "source": [
    "# File Storage\n",
    "\n",
    "**How to use**\n",
    "\n",
    "To reuse files, we use the same relative paths.  \n",
    "You can configure the data directory, in which relative paths and files are located.\n",
    "\n",
    "**How to configure the storage directory on your system**\n",
    "\n",
    "By default, the sub-directory `data` inside the project directory is used.\n",
    "Typically, `data` is a [symbolic link](https://en.wikipedia.org/wiki/Symbolic_link).<br />\n",
    "If you want to use a completely other storage directory, create a file `data-directory.txt` in the project root directory and put the storage path there.\n",
    "\n",
    "**How to add files to the project**\n",
    "\n",
    "To add a file for reuse, use the constructor of [file_storage.py](../../access/file_storage.py)"
   ]
  },
  {
   "cell_type": "code",
   "execution_count": 1,
   "metadata": {},
   "outputs": [],
   "source": [
    "# Reload modules every time before executing the Python code typed\n",
    "%load_ext autoreload\n",
    "%autoreload 2\n",
    "\n",
    "# Import from code root directory\n",
    "import sys; sys.path.insert(0, '../..')\n",
    "\n",
    "from access.file_storage import FileStorage"
   ]
  },
  {
   "cell_type": "code",
   "execution_count": 2,
   "metadata": {},
   "outputs": [],
   "source": [
    "fileStorage = FileStorage()"
   ]
  },
  {
   "cell_type": "markdown",
   "metadata": {},
   "source": [
    "## Storage directory\n",
    "\n",
    "Print the storage directory, which is used on your system:"
   ]
  },
  {
   "cell_type": "code",
   "execution_count": 3,
   "metadata": {},
   "outputs": [
    {
     "data": {
      "text/plain": [
       "'/home/eml4u/EML4U/notebooks/ExplainingDriftTextEmbeddings/data'"
      ]
     },
     "execution_count": 3,
     "metadata": {},
     "output_type": "execute_result"
    }
   ],
   "source": [
    "fileStorage.get_storage_directory()"
   ]
  },
  {
   "cell_type": "markdown",
   "metadata": {},
   "source": [
    "## Get path of file\n",
    "\n",
    "To get the path of a specific file, e.g. for reading, use the following method and a file ID:"
   ]
  },
  {
   "cell_type": "code",
   "execution_count": 4,
   "metadata": {},
   "outputs": [
    {
     "data": {
      "text/plain": [
       "'/home/eml4u/EML4U/notebooks/ExplainingDriftTextEmbeddings/data/movies/movies.txt.gz'"
      ]
     },
     "execution_count": 4,
     "metadata": {},
     "output_type": "execute_result"
    }
   ],
   "source": [
    "fileStorage.get_filepath('amazon_gz_file')"
   ]
  },
  {
   "cell_type": "markdown",
   "metadata": {},
   "source": [
    "## File overview\n",
    "\n",
    "A list of currently used files:"
   ]
  },
  {
   "cell_type": "code",
   "execution_count": 5,
   "metadata": {},
   "outputs": [
    {
     "name": "stdout",
     "output_type": "stream",
     "text": [
      "readme\n",
      " path  movies/README.test.md\n",
      " note  a test file\n",
      " web   https://raw.githubusercontent.com/EML4U/Drift-detector-comparison/main/README.md\n",
      "amazon_gz_file\n",
      " path  movies/movies.txt.gz\n",
      " note  None\n",
      " web   https://snap.stanford.edu/data/movies.txt.gz\n",
      "amazon_raw.pickle\n",
      " path  clustering/amazon_raw.pickle\n",
      " note  sorted amazon movie reviews data, created by amazon_movie_sorter.py\n",
      " web   None\n",
      "amazon_bow_50.pickle\n",
      " path  clustering/amazon_raw.pickle\n",
      " note  BoW 50 dimensions, created by generator_amazon_movie_embeddings.py\n",
      " web   None\n"
     ]
    }
   ],
   "source": [
    "fileStorage.print_file_overview()"
   ]
  },
  {
   "cell_type": "code",
   "execution_count": null,
   "metadata": {},
   "outputs": [],
   "source": []
  }
 ],
 "metadata": {
  "kernelspec": {
   "display_name": "Python (EML4U)",
   "language": "python",
   "name": "eml4u"
  },
  "language_info": {
   "codemirror_mode": {
    "name": "ipython",
    "version": 3
   },
   "file_extension": ".py",
   "mimetype": "text/x-python",
   "name": "python",
   "nbconvert_exporter": "python",
   "pygments_lexer": "ipython3",
   "version": "3.8.5"
  }
 },
 "nbformat": 4,
 "nbformat_minor": 4
}
