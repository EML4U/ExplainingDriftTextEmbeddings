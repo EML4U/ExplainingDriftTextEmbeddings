{
 "cells": [
  {
   "cell_type": "markdown",
   "metadata": {},
   "source": [
    "# Benchmark AMR-D1 creation\n",
    "\n",
    "Amazon Movie Reviews - Drift 1"
   ]
  },
  {
   "cell_type": "code",
   "execution_count": 1,
   "metadata": {},
   "outputs": [],
   "source": [
    "# Reload modules every time before executing the Python code typed\n",
    "%load_ext autoreload\n",
    "%autoreload 2\n",
    "\n",
    "# Import from code root directory\n",
    "import sys; sys.path.insert(0, '../')\n",
    "\n",
    "# Imports\n",
    "from access.file_storage import FileStorage\n",
    "from rarfile import RarFile\n",
    "import os"
   ]
  },
  {
   "cell_type": "markdown",
   "metadata": {},
   "source": [
    "## Opinion words\n",
    "\n",
    "https://www.cs.uic.edu/~liub/FBS/sentiment-analysis.html#lexicon"
   ]
  },
  {
   "cell_type": "code",
   "execution_count": 2,
   "metadata": {},
   "outputs": [
    {
     "name": "stdout",
     "output_type": "stream",
     "text": [
      "/home/eml4u/EML4U/notebooks/ExplainingDriftTextEmbeddings/data/opinion-words/opinion-lexicon-English.rar\n",
      "/home/eml4u/EML4U/notebooks/ExplainingDriftTextEmbeddings/data/opinion-words\n",
      "/home/eml4u/EML4U/notebooks/ExplainingDriftTextEmbeddings/data/opinion-words/opinion-lexicon-English/negative-words.txt\n",
      "/home/eml4u/EML4U/notebooks/ExplainingDriftTextEmbeddings/data/opinion-words/opinion-lexicon-English/positive-words.txt\n"
     ]
    }
   ],
   "source": [
    "# Config\n",
    "opinion_words_id = 'opinion-words'\n",
    "file_storage = FileStorage()\n",
    "\n",
    "print(file_storage.get_filepath(opinion_words_id))\n",
    "\n",
    "opinion_words_directoy = os.path.dirname(file_storage.get_filepath(opinion_words_id))\n",
    "print(opinion_words_directoy)\n",
    "\n",
    "negative_words_file = os.path.join(opinion_words_directoy, 'opinion-lexicon-English', 'negative-words.txt')\n",
    "positive_words_file = os.path.join(opinion_words_directoy, 'opinion-lexicon-English', 'positive-words.txt')\n",
    "print(negative_words_file)\n",
    "print(positive_words_file)"
   ]
  },
  {
   "cell_type": "code",
   "execution_count": 3,
   "metadata": {},
   "outputs": [
    {
     "name": "stdout",
     "output_type": "stream",
     "text": [
      "File exists, will not be downloaded\n"
     ]
    }
   ],
   "source": [
    "# Download opinion words, if not already exists\n",
    "file_storage.download(opinion_words_id)"
   ]
  },
  {
   "cell_type": "code",
   "execution_count": 4,
   "metadata": {},
   "outputs": [],
   "source": [
    "# Extract file, if not already extracted\n",
    "if not os.path.exists(negative_words_file):\n",
    "    with RarFile(file_storage.get_filepath(opinion_words_id)) as file:\n",
    "        file.extractall(opinion_words_directoy)"
   ]
  },
  {
   "cell_type": "code",
   "execution_count": 5,
   "metadata": {},
   "outputs": [
    {
     "name": "stdout",
     "output_type": "stream",
     "text": [
      "4783\n",
      "2006\n"
     ]
    }
   ],
   "source": [
    "# Read words files\n",
    "def read_opinion_file(file):\n",
    "    words = []\n",
    "    with open(file, 'r', encoding=\"iso-8859-1\") as f:\n",
    "        for line in f:\n",
    "            if line and line.strip() and not line.startswith(';'):\n",
    "                words.append(line.strip())\n",
    "    return words\n",
    "negative_words = read_opinion_file(negative_words_file)\n",
    "positive_words = read_opinion_file(positive_words_file)\n",
    "print(len(negative_words))\n",
    "print(len(positive_words))"
   ]
  },
  {
   "cell_type": "code",
   "execution_count": null,
   "metadata": {},
   "outputs": [],
   "source": []
  }
 ],
 "metadata": {
  "kernelspec": {
   "display_name": "Python (EML4U)",
   "language": "python",
   "name": "eml4u"
  },
  "language_info": {
   "codemirror_mode": {
    "name": "ipython",
    "version": 3
   },
   "file_extension": ".py",
   "mimetype": "text/x-python",
   "name": "python",
   "nbconvert_exporter": "python",
   "pygments_lexer": "ipython3",
   "version": "3.8.5"
  }
 },
 "nbformat": 4,
 "nbformat_minor": 4
}
