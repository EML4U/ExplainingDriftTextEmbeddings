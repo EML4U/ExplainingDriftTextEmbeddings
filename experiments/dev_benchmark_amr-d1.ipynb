{
 "cells": [
  {
   "cell_type": "markdown",
   "metadata": {},
   "source": [
    "# Benchmark AMR-D1 creation\n",
    "\n",
    "Amazon Movie Reviews - Drift 1\n"
   ]
  },
  {
   "cell_type": "code",
   "execution_count": 4,
   "metadata": {},
   "outputs": [
    {
     "name": "stdout",
     "output_type": "stream",
     "text": [
      "The autoreload extension is already loaded. To reload it, use:\n",
      "  %reload_ext autoreload\n"
     ]
    }
   ],
   "source": [
    "# Reload modules every time before executing the Python code typed\n",
    "%load_ext autoreload\n",
    "%autoreload 2\n",
    "\n",
    "# Import from code root directory\n",
    "import sys; sys.path.insert(0, '../')\n",
    "\n",
    "# Imports opinion words\n",
    "from access.file_storage import FileStorage\n",
    "from rarfile import RarFile\n",
    "import os\n",
    "\n",
    "# Imports Amazon\n",
    "#from access.amazon_pickle_reader import AmazonPickleReader\n",
    "from access.amazon_pickle_splitter import AmazonPickleSplitter"
   ]
  },
  {
   "cell_type": "code",
   "execution_count": 5,
   "metadata": {},
   "outputs": [],
   "source": [
    "file_storage = FileStorage()"
   ]
  },
  {
   "cell_type": "markdown",
   "metadata": {},
   "source": [
    "## Opinion words\n",
    "\n",
    "https://www.cs.uic.edu/~liub/FBS/sentiment-analysis.html#lexicon"
   ]
  },
  {
   "cell_type": "code",
   "execution_count": 6,
   "metadata": {},
   "outputs": [
    {
     "name": "stdout",
     "output_type": "stream",
     "text": [
      "/home/eml4u/EML4U/notebooks/ExplainingDriftTextEmbeddings/data/opinion-words/opinion-lexicon-English.rar\n",
      "/home/eml4u/EML4U/notebooks/ExplainingDriftTextEmbeddings/data/opinion-words\n",
      "/home/eml4u/EML4U/notebooks/ExplainingDriftTextEmbeddings/data/opinion-words/opinion-lexicon-English/negative-words.txt\n",
      "/home/eml4u/EML4U/notebooks/ExplainingDriftTextEmbeddings/data/opinion-words/opinion-lexicon-English/positive-words.txt\n"
     ]
    }
   ],
   "source": [
    "# Config\n",
    "opinion_words_id = 'opinion-words'\n",
    "print(file_storage.get_filepath(opinion_words_id))\n",
    "\n",
    "opinion_words_directoy = os.path.dirname(file_storage.get_filepath(opinion_words_id))\n",
    "print(opinion_words_directoy)\n",
    "\n",
    "negative_words_file = os.path.join(opinion_words_directoy, 'opinion-lexicon-English', 'negative-words.txt')\n",
    "positive_words_file = os.path.join(opinion_words_directoy, 'opinion-lexicon-English', 'positive-words.txt')\n",
    "print(negative_words_file)\n",
    "print(positive_words_file)"
   ]
  },
  {
   "cell_type": "code",
   "execution_count": 7,
   "metadata": {},
   "outputs": [
    {
     "name": "stdout",
     "output_type": "stream",
     "text": [
      "File exists, will not be downloaded\n"
     ]
    }
   ],
   "source": [
    "# Download opinion words, if not already exists\n",
    "file_storage.download(opinion_words_id)"
   ]
  },
  {
   "cell_type": "code",
   "execution_count": 8,
   "metadata": {},
   "outputs": [],
   "source": [
    "# Extract file, if not already extracted\n",
    "if not os.path.exists(negative_words_file):\n",
    "    with RarFile(file_storage.get_filepath(opinion_words_id)) as file:\n",
    "        file.extractall(opinion_words_directoy)"
   ]
  },
  {
   "cell_type": "code",
   "execution_count": 9,
   "metadata": {},
   "outputs": [
    {
     "name": "stdout",
     "output_type": "stream",
     "text": [
      "4783\n",
      "2006\n"
     ]
    }
   ],
   "source": [
    "# Read words files\n",
    "def read_opinion_file(file):\n",
    "    words = []\n",
    "    with open(file, 'r', encoding=\"iso-8859-1\") as f:\n",
    "        for line in f:\n",
    "            if line and line.strip() and not line.startswith(';'):\n",
    "                words.append(line.strip())\n",
    "    return words\n",
    "negative_words = read_opinion_file(negative_words_file)\n",
    "positive_words = read_opinion_file(positive_words_file)\n",
    "print(len(negative_words))\n",
    "print(len(positive_words))"
   ]
  },
  {
   "cell_type": "markdown",
   "metadata": {},
   "source": [
    "## Amazon"
   ]
  },
  {
   "cell_type": "code",
   "execution_count": 10,
   "metadata": {},
   "outputs": [
    {
     "name": "stdout",
     "output_type": "stream",
     "text": [
      "/home/eml4u/EML4U/notebooks/ExplainingDriftTextEmbeddings/data/clustering/amazon_raw.pickle\n",
      "/home/eml4u/EML4U/notebooks/ExplainingDriftTextEmbeddings/data/clustering\n"
     ]
    }
   ],
   "source": [
    "# Config\n",
    "amazon_raw_id = 'amazon_raw.pickle'\n",
    "print(file_storage.get_filepath(amazon_raw_id))\n",
    "\n",
    "amazon_directoy = os.path.dirname(file_storage.get_filepath(amazon_raw_id))\n",
    "print(amazon_directoy)"
   ]
  },
  {
   "cell_type": "code",
   "execution_count": 11,
   "metadata": {},
   "outputs": [],
   "source": [
    "# Read data\n",
    "amazon_splitter = AmazonPickleSplitter(amazon_directoy)"
   ]
  },
  {
   "cell_type": "code",
   "execution_count": 15,
   "metadata": {},
   "outputs": [],
   "source": [
    "# Print overview\n",
    "if False:\n",
    "    amazon_splitter.print_overview()\n",
    "    \n",
    "# 1997\t1998\t1999\t2000\t2001\t2002\t2003\t2004\t2005\t2006\t2007\t2008\t2009\t2010\t2011\t2012\t\n",
    "# 6\t\t191\t\t4844\t19944\t24221\t25311\t25734\t41016\t54744\t49049\t49521\t56076\t59099\t65343\t72957\t81276\t0\n",
    "# 1\t\t262\t\t3631\t17808\t20320\t22641\t24183\t33117\t40868\t37992\t40205\t40138\t39680\t41430\t45767\t47356\t1\n",
    "# 8\t\t442\t\t6458\t30907\t35395\t37798\t43323\t60489\t71012\t66128\t75239\t74057\t73178\t70279\t72055\t74826\t2\n",
    "# 29\t797\t\t14178\t73314\t79152\t84276\t90527\t119160\t138000\t135581\t167632\t161693\t149771\t142000\t148457\t150248\t3\n",
    "# 64\t3313\t49866\t192002\t189638\t198712\t205916\t257603\t308080\t311252\t452009\t412870\t422403\t426248\t465918\t484650\t4"
   ]
  },
  {
   "cell_type": "markdown",
   "metadata": {},
   "source": [
    "# Idea\n",
    "\n",
    "- Two distributions 1-star and 5-star data: One original, one mixed -> Artificial drift\n",
    "- Use 2001 to inject 10%, 2002 to inject 20% and so on\n",
    "- Sort by positive/negative words to exclude low quality reviews by users\n",
    "- What's required? [training, validation, test](https://en.wikipedia.org/wiki/Training%2C_validation%2C_and_test_sets). Sizes of each?"
   ]
  },
  {
   "cell_type": "code",
   "execution_count": null,
   "metadata": {},
   "outputs": [],
   "source": [
    "# c =  len([i for i in list2 if i in list1 ])"
   ]
  }
 ],
 "metadata": {
  "kernelspec": {
   "display_name": "Python (EML4U)",
   "language": "python",
   "name": "eml4u"
  },
  "language_info": {
   "codemirror_mode": {
    "name": "ipython",
    "version": 3
   },
   "file_extension": ".py",
   "mimetype": "text/x-python",
   "name": "python",
   "nbconvert_exporter": "python",
   "pygments_lexer": "ipython3",
   "version": "3.8.5"
  }
 },
 "nbformat": 4,
 "nbformat_minor": 4
}
