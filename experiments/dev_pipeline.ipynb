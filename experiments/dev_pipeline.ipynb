{
 "cells": [
  {
   "cell_type": "markdown",
   "metadata": {},
   "source": [
    "# Pipeline"
   ]
  },
  {
   "cell_type": "code",
   "execution_count": 1,
   "metadata": {},
   "outputs": [],
   "source": [
    "# Reload modules every time before executing the Python code typed\n",
    "%load_ext autoreload\n",
    "%autoreload 2\n",
    "\n",
    "# Import from code root directory\n",
    "import sys; sys.path.insert(0, '../')\n",
    "\n",
    "# Imports\n",
    "from access.amazon_doc2vec_reader import AmoreDoctovecReader\n",
    "from selection.bounding_boxes import BoundingBoxes"
   ]
  },
  {
   "cell_type": "markdown",
   "metadata": {},
   "source": [
    "# Reader"
   ]
  },
  {
   "cell_type": "code",
   "execution_count": 2,
   "metadata": {},
   "outputs": [
    {
     "name": "stdout",
     "output_type": "stream",
     "text": [
      "AmoreDoctovecReader distributions file: /tmp/amore_test_1.pickle\n",
      "AmoreDoctovecReader data directory:     /home/eml4u/EML4U/data/amazon-complete\n"
     ]
    }
   ],
   "source": [
    "amazon_doc2vec_reader = AmoreDoctovecReader()\n",
    "options = {}\n",
    "options['data_directory'] = '/home/eml4u/EML4U/data/amazon-complete'\n",
    "options['distributions_file'] = '/tmp/amore_test_1.pickle'\n",
    "amazon_doc2vec_reader.initialize(options)"
   ]
  },
  {
   "cell_type": "markdown",
   "metadata": {},
   "source": [
    "# Detector"
   ]
  },
  {
   "cell_type": "code",
   "execution_count": 3,
   "metadata": {},
   "outputs": [
    {
     "name": "stdout",
     "output_type": "stream",
     "text": [
      "BoundingBoxes percentile:                            0.2\n",
      "BoundingBoxes minimum number of enclosed dimensions: 50\n"
     ]
    }
   ],
   "source": [
    "bounding_boxes = BoundingBoxes()\n",
    "options = {}\n",
    "options['percentile'] = 0.2\n",
    "options['enclosed_dimensions'] = 50\n",
    "bounding_boxes.initialize(options)\n",
    "bounding_boxes.set_reader(amazon_doc2vec_reader)"
   ]
  },
  {
   "cell_type": "code",
   "execution_count": 4,
   "metadata": {},
   "outputs": [
    {
     "name": "stdout",
     "output_type": "stream",
     "text": [
      "AmoreDoctovecReader: Loading distribution file: /tmp/amore_test_1.pickle\n",
      "BoundingBoxes: Collecting values of single dimensions\n",
      "AmazonPickleReader: Reading raw data\n",
      "AmazonPickleReader: Reading bow50 data\n",
      "BoundingBoxes: Updating boundaries\n",
      "BoundingBoxes: Filtering items\n",
      "6580\n"
     ]
    }
   ],
   "source": [
    "print(len(bounding_boxes.select_item_ids(amazon_doc2vec_reader.get_distribution_ids()[0], amazon_doc2vec_reader.get_distribution_ids()[1])))"
   ]
  },
  {
   "cell_type": "code",
   "execution_count": null,
   "metadata": {},
   "outputs": [],
   "source": [
    "\n"
   ]
  },
  {
   "cell_type": "code",
   "execution_count": null,
   "metadata": {},
   "outputs": [],
   "source": []
  }
 ],
 "metadata": {
  "kernelspec": {
   "display_name": "Python (EML4U)",
   "language": "python",
   "name": "eml4u"
  },
  "language_info": {
   "codemirror_mode": {
    "name": "ipython",
    "version": 3
   },
   "file_extension": ".py",
   "mimetype": "text/x-python",
   "name": "python",
   "nbconvert_exporter": "python",
   "pygments_lexer": "ipython3",
   "version": "3.8.5"
  }
 },
 "nbformat": 4,
 "nbformat_minor": 4
}
